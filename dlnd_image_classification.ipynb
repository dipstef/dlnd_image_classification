{
 "cells": [
  {
   "cell_type": "markdown",
   "metadata": {
    "collapsed": true,
    "deletable": true,
    "editable": true
   },
   "source": [
    "# Image Classification\n",
    "In this project, you'll classify images from the [CIFAR-10 dataset](https://www.cs.toronto.edu/~kriz/cifar.html).  The dataset consists of airplanes, dogs, cats, and other objects. You'll preprocess the images, then train a convolutional neural network on all the samples. The images need to be normalized and the labels need to be one-hot encoded.  You'll get to apply what you learned and build a convolutional, max pooling, dropout, and fully connected layers.  At the end, you'll get to see your neural network's predictions on the sample images.\n",
    "## Get the Data\n",
    "Run the following cell to download the [CIFAR-10 dataset for python](https://www.cs.toronto.edu/~kriz/cifar-10-python.tar.gz)."
   ]
  },
  {
   "cell_type": "code",
   "execution_count": 2,
   "metadata": {
    "collapsed": false,
    "deletable": true,
    "editable": true
   },
   "outputs": [
    {
     "name": "stderr",
     "output_type": "stream",
     "text": [
      "CIFAR-10 Dataset: 171MB [01:26, 1.97MB/s]                              \n"
     ]
    },
    {
     "name": "stdout",
     "output_type": "stream",
     "text": [
      "All files found!\n"
     ]
    }
   ],
   "source": [
    "\"\"\"\n",
    "DON'T MODIFY ANYTHING IN THIS CELL THAT IS BELOW THIS LINE\n",
    "\"\"\"\n",
    "from urllib.request import urlretrieve\n",
    "from os.path import isfile, isdir\n",
    "from tqdm import tqdm\n",
    "import problem_unittests as tests\n",
    "import tarfile\n",
    "\n",
    "cifar10_dataset_folder_path = 'cifar-10-batches-py'\n",
    "\n",
    "# Use Floyd's cifar-10 dataset if present\n",
    "floyd_cifar10_location = '/input/cifar-10/python.tar.gz'\n",
    "if isfile(floyd_cifar10_location):\n",
    "    tar_gz_path = floyd_cifar10_location\n",
    "else:\n",
    "    tar_gz_path = 'cifar-10-python.tar.gz'\n",
    "\n",
    "\n",
    "class DLProgress(tqdm):\n",
    "    last_block = 0\n",
    "\n",
    "    def hook(self, block_num=1, block_size=1, total_size=None):\n",
    "        self.total = total_size\n",
    "        self.update((block_num - self.last_block) * block_size)\n",
    "        self.last_block = block_num\n",
    "\n",
    "if not isfile(tar_gz_path):\n",
    "    with DLProgress(unit='B', unit_scale=True, miniters=1, desc='CIFAR-10 Dataset') as pbar:\n",
    "        urlretrieve(\n",
    "            'https://www.cs.toronto.edu/~kriz/cifar-10-python.tar.gz',\n",
    "            tar_gz_path,\n",
    "            pbar.hook)\n",
    "\n",
    "if not isdir(cifar10_dataset_folder_path):\n",
    "    with tarfile.open(tar_gz_path) as tar:\n",
    "        tar.extractall()\n",
    "        tar.close()\n",
    "\n",
    "\n",
    "tests.test_folder_path(cifar10_dataset_folder_path)"
   ]
  },
  {
   "cell_type": "markdown",
   "metadata": {
    "deletable": true,
    "editable": true
   },
   "source": [
    "## Explore the Data\n",
    "The dataset is broken into batches to prevent your machine from running out of memory.  The CIFAR-10 dataset consists of 5 batches, named `data_batch_1`, `data_batch_2`, etc.. Each batch contains the labels and images that are one of the following:\n",
    "* airplane\n",
    "* automobile\n",
    "* bird\n",
    "* cat\n",
    "* deer\n",
    "* dog\n",
    "* frog\n",
    "* horse\n",
    "* ship\n",
    "* truck\n",
    "\n",
    "Understanding a dataset is part of making predictions on the data.  Play around with the code cell below by changing the `batch_id` and `sample_id`. The `batch_id` is the id for a batch (1-5). The `sample_id` is the id for a image and label pair in the batch.\n",
    "\n",
    "Ask yourself \"What are all possible labels?\", \"What is the range of values for the image data?\", \"Are the labels in order or random?\".  Answers to questions like these will help you preprocess the data and end up with better predictions."
   ]
  },
  {
   "cell_type": "code",
   "execution_count": 3,
   "metadata": {
    "collapsed": false,
    "deletable": true,
    "editable": true
   },
   "outputs": [
    {
     "name": "stdout",
     "output_type": "stream",
     "text": [
      "\n",
      "Stats of batch 1:\n",
      "Samples: 10000\n",
      "Label Counts: {0: 1005, 1: 974, 2: 1032, 3: 1016, 4: 999, 5: 937, 6: 1030, 7: 1001, 8: 1025, 9: 981}\n",
      "First 20 Labels: [6, 9, 9, 4, 1, 1, 2, 7, 8, 3, 4, 7, 7, 2, 9, 9, 9, 3, 2, 6]\n",
      "\n",
      "Example of Image 5:\n",
      "Image - Min Value: 0 Max Value: 252\n",
      "Image - Shape: (32, 32, 3)\n",
      "Label - Label Id: 1 Name: automobile\n"
     ]
    },
    {
     "data": {
      "image/png": "[encoded data removed]",
      "text/plain": [
       "<matplotlib.figure.Figure at 0x7fe96193f940>"
      ]
     },
     "metadata": {
      "image/png": {
       "height": 250.0,
       "width": 253.0
      }
     },
     "output_type": "display_data"
    }
   ],
   "source": [
    "%matplotlib inline\n",
    "%config InlineBackend.figure_format = 'retina'\n",
    "\n",
    "import helper\n",
    "import numpy as np\n",
    "\n",
    "# Explore the dataset\n",
    "batch_id = 1\n",
    "sample_id = 5\n",
    "helper.display_stats(cifar10_dataset_folder_path, batch_id, sample_id)"
   ]
  },
  {
   "cell_type": "markdown",
   "metadata": {
    "deletable": true,
    "editable": true
   },
   "source": [
    "## Implement Preprocess Functions\n",
    "### Normalize\n",
    "In the cell below, implement the `normalize` function to take in image data, `x`, and return it as a normalized Numpy array. The values should be in the range of 0 to 1, inclusive.  The return object should be the same shape as `x`."
   ]
  },
  {
   "cell_type": "code",
   "execution_count": 4,
   "metadata": {
    "collapsed": false,
    "deletable": true,
    "editable": true
   },
   "outputs": [
    {
     "name": "stdout",
     "output_type": "stream",
     "text": [
      "Tests Passed\n"
     ]
    }
   ],
   "source": [
    "from sklearn.preprocessing import scale\n",
    "\n",
    "def normalize(x):\n",
    "    \"\"\"\n",
    "    Normalize a list of sample image data in the range of 0 to 1\n",
    "    : x: List of image data.  The image shape is (32, 32, 3)\n",
    "    : return: Numpy array of normalize data\n",
    "    \"\"\"\n",
    "    return (x - np.min(x)) / np.ptp(x)\n",
    "   \n",
    "\"\"\"\n",
    "DON'T MODIFY ANYTHING IN THIS CELL THAT IS BELOW THIS LINE\n",
    "\"\"\"\n",
    "tests.test_normalize(normalize)"
   ]
  },
  {
   "cell_type": "markdown",
   "metadata": {
    "deletable": true,
    "editable": true
   },
   "source": [
    "### One-hot encode\n",
    "Just like the previous code cell, you'll be implementing a function for preprocessing.  This time, you'll implement the `one_hot_encode` function. The input, `x`, are a list of labels.  Implement the function to return the list of labels as One-Hot encoded Numpy array.  The possible values for labels are 0 to 9. The one-hot encoding function should return the same encoding for each value between each call to `one_hot_encode`.  Make sure to save the map of encodings outside the function.\n",
    "\n",
    "Hint: Don't reinvent the wheel."
   ]
  },
  {
   "cell_type": "code",
   "execution_count": 5,
   "metadata": {
    "collapsed": false,
    "deletable": true,
    "editable": true
   },
   "outputs": [
    {
     "name": "stdout",
     "output_type": "stream",
     "text": [
      "Tests Passed\n"
     ]
    }
   ],
   "source": [
    "def one_hot_encode(x):\n",
    "    \"\"\"\n",
    "    One hot encode a list of sample labels. Return a one-hot encoded vector for each label.\n",
    "    : x: List of sample Labels\n",
    "    : return: Numpy array of one-hot encoded labels\n",
    "\n",
    "    >>> np.array([[2,3,4,0], [4,5,6,7]]).reshape(-1, 1)\n",
    "        array([[2],\n",
    "               [3],\n",
    "               [4],\n",
    "               [0],\n",
    "               [4],\n",
    "               [5],\n",
    "               [6],\n",
    "               [7]])\n",
    "    \"\"\"\n",
    "    return np.eye(10)[x]\n",
    "\"\"\"\n",
    "DON'T MODIFY ANYTHING IN THIS CELL THAT IS BELOW THIS LINE\n",
    "\"\"\"\n",
    "tests.test_one_hot_encode(one_hot_encode)"
   ]
  },
  {
   "cell_type": "markdown",
   "metadata": {
    "deletable": true,
    "editable": true
   },
   "source": [
    "### Randomize Data\n",
    "As you saw from exploring the data above, the order of the samples are randomized.  It doesn't hurt to randomize it again, but you don't need to for this dataset."
   ]
  },
  {
   "cell_type": "markdown",
   "metadata": {
    "deletable": true,
    "editable": true
   },
   "source": [
    "## Preprocess all the data and save it\n",
    "Running the code cell below will preprocess all the CIFAR-10 data and save it to file. The code below also uses 10% of the training data for validation."
   ]
  },
  {
   "cell_type": "code",
   "execution_count": 6,
   "metadata": {
    "collapsed": true,
    "deletable": true,
    "editable": true
   },
   "outputs": [],
   "source": [
    "\"\"\"\n",
    "DON'T MODIFY ANYTHING IN THIS CELL\n",
    "\"\"\"\n",
    "# Preprocess Training, Validation, and Testing Data\n",
    "helper.preprocess_and_save_data(cifar10_dataset_folder_path, normalize, one_hot_encode)"
   ]
  },
  {
   "cell_type": "markdown",
   "metadata": {
    "deletable": true,
    "editable": true
   },
   "source": [
    "# Check Point\n",
    "This is your first checkpoint.  If you ever decide to come back to this notebook or have to restart the notebook, you can start from here.  The preprocessed data has been saved to disk."
   ]
  },
  {
   "cell_type": "code",
   "execution_count": 7,
   "metadata": {
    "collapsed": true,
    "deletable": true,
    "editable": true
   },
   "outputs": [],
   "source": [
    "\"\"\"\n",
    "DON'T MODIFY ANYTHING IN THIS CELL\n",
    "\"\"\"\n",
    "import pickle\n",
    "import problem_unittests as tests\n",
    "import helper\n",
    "\n",
    "# Load the Preprocessed Validation data\n",
    "valid_features, valid_labels = pickle.load(open('preprocess_validation.p', mode='rb'))"
   ]
  },
  {
   "cell_type": "markdown",
   "metadata": {
    "deletable": true,
    "editable": true
   },
   "source": [
    "## Build the network\n",
    "For the neural network, you'll build each layer into a function.  Most of the code you've seen has been outside of functions. To test your code more thoroughly, we require that you put each layer in a function.  This allows us to give you better feedback and test for simple mistakes using our unittests before you submit your project.\n",
    "\n",
    ">**Note:** If you're finding it hard to dedicate enough time for this course each week, we've provided a small shortcut to this part of the project. In the next couple of problems, you'll have the option to use classes from the [TensorFlow Layers](https://www.tensorflow.org/api_docs/python/tf/layers) or [TensorFlow Layers (contrib)](https://www.tensorflow.org/api_guides/python/contrib.layers) packages to build each layer, except the layers you build in the \"Convolutional and Max Pooling Layer\" section.  TF Layers is similar to Keras's and TFLearn's abstraction to layers, so it's easy to pickup.\n",
    "\n",
    ">However, if you would like to get the most out of this course, try to solve all the problems _without_ using anything from the TF Layers packages. You **can** still use classes from other packages that happen to have the same name as ones you find in TF Layers! For example, instead of using the TF Layers version of the `conv2d` class, [tf.layers.conv2d](https://www.tensorflow.org/api_docs/python/tf/layers/conv2d), you would want to use the TF Neural Network version of `conv2d`, [tf.nn.conv2d](https://www.tensorflow.org/api_docs/python/tf/nn/conv2d). \n",
    "\n",
    "Let's begin!\n",
    "\n",
    "### Input\n",
    "The neural network needs to read the image data, one-hot encoded labels, and dropout keep probability. Implement the following functions\n",
    "* Implement `neural_net_image_input`\n",
    " * Return a [TF Placeholder](https://www.tensorflow.org/api_docs/python/tf/placeholder)\n",
    " * Set the shape using `image_shape` with batch size set to `None`.\n",
    " * Name the TensorFlow placeholder \"x\" using the TensorFlow `name` parameter in the [TF Placeholder](https://www.tensorflow.org/api_docs/python/tf/placeholder).\n",
    "* Implement `neural_net_label_input`\n",
    " * Return a [TF Placeholder](https://www.tensorflow.org/api_docs/python/tf/placeholder)\n",
    " * Set the shape using `n_classes` with batch size set to `None`.\n",
    " * Name the TensorFlow placeholder \"y\" using the TensorFlow `name` parameter in the [TF Placeholder](https://www.tensorflow.org/api_docs/python/tf/placeholder).\n",
    "* Implement `neural_net_keep_prob_input`\n",
    " * Return a [TF Placeholder](https://www.tensorflow.org/api_docs/python/tf/placeholder) for dropout keep probability.\n",
    " * Name the TensorFlow placeholder \"keep_prob\" using the TensorFlow `name` parameter in the [TF Placeholder](https://www.tensorflow.org/api_docs/python/tf/placeholder).\n",
    "\n",
    "These names will be used at the end of the project to load your saved model.\n",
    "\n",
    "Note: `None` for shapes in TensorFlow allow for a dynamic size."
   ]
  },
  {
   "cell_type": "code",
   "execution_count": 8,
   "metadata": {
    "collapsed": false,
    "deletable": true,
    "editable": true
   },
   "outputs": [
    {
     "name": "stdout",
     "output_type": "stream",
     "text": [
      "Image Input Tests Passed.\n",
      "Label Input Tests Passed.\n",
      "Keep Prob Tests Passed.\n"
     ]
    }
   ],
   "source": [
    "import tensorflow as tf\n",
    "\n",
    "def neural_net_image_input(image_shape):\n",
    "    \"\"\"\n",
    "    Return a Tensor for a batch of image input\n",
    "    : image_shape: Shape of the images\n",
    "    : return: Tensor for image input.\n",
    "    \"\"\"\n",
    "    return tf.placeholder(tf.float32, shape=[None, *image_shape], name='x')\n",
    "\n",
    "def neural_net_label_input(n_classes):\n",
    "    \"\"\"\n",
    "    Return a Tensor for a batch of label input\n",
    "    : n_classes: Number of classes\n",
    "    : return: Tensor for label input.\n",
    "    \"\"\"\n",
    "    return tf.placeholder(tf.float32, shape=[None, n_classes], name='y')\n",
    "\n",
    "\n",
    "def neural_net_keep_prob_input():\n",
    "    \"\"\"\n",
    "    Return a Tensor for keep probability\n",
    "    : return: Tensor for keep probability.\n",
    "    \"\"\"\n",
    "    return tf.placeholder(tf.float32, name='keep_prob')\n",
    "\n",
    "\n",
    "\"\"\"\n",
    "DON'T MODIFY ANYTHING IN THIS CELL THAT IS BELOW THIS LINE\n",
    "\"\"\"\n",
    "tf.reset_default_graph()\n",
    "tests.test_nn_image_inputs(neural_net_image_input)\n",
    "tests.test_nn_label_inputs(neural_net_label_input)\n",
    "tests.test_nn_keep_prob_inputs(neural_net_keep_prob_input)"
   ]
  },
  {
   "cell_type": "markdown",
   "metadata": {
    "deletable": true,
    "editable": true
   },
   "source": [
    "### Convolution and Max Pooling Layer\n",
    "Convolution layers have a lot of success with images. For this code cell, you should implement the function `conv2d_maxpool` to apply convolution then max pooling:\n",
    "* Create the weight and bias using `conv_ksize`, `conv_num_outputs` and the shape of `x_tensor`.\n",
    "* Apply a convolution to `x_tensor` using weight and `conv_strides`.\n",
    " * We recommend you use same padding, but you're welcome to use any padding.\n",
    "* Add bias\n",
    "* Add a nonlinear activation to the convolution.\n",
    "* Apply Max Pooling using `pool_ksize` and `pool_strides`.\n",
    " * We recommend you use same padding, but you're welcome to use any padding.\n",
    "\n",
    "**Note:** You **can't** use [TensorFlow Layers](https://www.tensorflow.org/api_docs/python/tf/layers) or [TensorFlow Layers (contrib)](https://www.tensorflow.org/api_guides/python/contrib.layers) for **this** layer, but you can still use TensorFlow's [Neural Network](https://www.tensorflow.org/api_docs/python/tf/nn) package. You may still use the shortcut option for all the **other** layers."
   ]
  },
  {
   "cell_type": "code",
   "execution_count": 9,
   "metadata": {
    "collapsed": false,
    "deletable": true,
    "editable": true
   },
   "outputs": [
    {
     "name": "stdout",
     "output_type": "stream",
     "text": [
      "Tests Passed\n"
     ]
    }
   ],
   "source": [
    "def conv2d_maxpool(x_tensor, conv_num_outputs, conv_ksize, conv_strides, pool_ksize, pool_strides):\n",
    "    \"\"\"\n",
    "    Apply convolution then max pooling to x_tensor\n",
    "    :param x_tensor: TensorFlow Tensor\n",
    "    :param conv_num_outputs: Number of outputs for the convolutional layer\n",
    "    :param conv_ksize: kernal size 2-D Tuple for the convolutional layer\n",
    "    :param conv_strides: Stride 2-D Tuple for convolution\n",
    "    :param pool_ksize: kernal size 2-D Tuple for pool\n",
    "    :param pool_strides: Stride 2-D Tuple for pool\n",
    "   \n",
    "    : return: A tensor that represents convolution and max pooling of x_tensor\n",
    "    \"\"\"\n",
    "    _, _, _, input_depth = x_tensor.get_shape()\n",
    "    weights = tf.Variable(tf.truncated_normal(shape=(*conv_ksize, int(input_depth), conv_num_outputs),\n",
    "                                              stddev=0.1))\n",
    "\n",
    "    bias = tf.Variable(tf.zeros(conv_num_outputs))\n",
    "\n",
    "    conv = tf.nn.conv2d(x_tensor, weights, strides=[1, *conv_strides, 1], padding=\"SAME\")\n",
    "    conv = tf.add(conv, bias)\n",
    "    conv = tf.nn.relu(conv)\n",
    "    conv = tf.nn.max_pool(conv, ksize=[1, *pool_ksize, 1], strides=[1, *pool_strides, 1], padding=\"SAME\")\n",
    "\n",
    "    return conv\n",
    "\n",
    "\n",
    "\"\"\"\n",
    "DON'T MODIFY ANYTHING IN THIS CELL THAT IS BELOW THIS LINE\n",
    "\"\"\"\n",
    "tests.test_con_pool(conv2d_maxpool)"
   ]
  },
  {
   "cell_type": "markdown",
   "metadata": {
    "deletable": true,
    "editable": true
   },
   "source": [
    "### Flatten Layer\n",
    "Implement the `flatten` function to change the dimension of `x_tensor` from a 4-D tensor to a 2-D tensor.  The output should be the shape (*Batch Size*, *Flattened Image Size*). Shortcut option: you can use classes from the [TensorFlow Layers](https://www.tensorflow.org/api_docs/python/tf/layers) or [TensorFlow Layers (contrib)](https://www.tensorflow.org/api_guides/python/contrib.layers) packages for this layer. For more of a challenge, only use other TensorFlow packages."
   ]
  },
  {
   "cell_type": "code",
   "execution_count": 10,
   "metadata": {
    "collapsed": false,
    "deletable": true,
    "editable": true
   },
   "outputs": [
    {
     "name": "stdout",
     "output_type": "stream",
     "text": [
      "Tests Passed\n"
     ]
    }
   ],
   "source": [
    "def flatten(x_tensor):\n",
    "    \"\"\"\n",
    "    Flatten x_tensor to (Batch Size, Flattened Image Size)\n",
    "    : x_tensor: A tensor of size (Batch Size, ...), where ... are the image dimensions.\n",
    "    : return: A tensor of size (Batch Size, Flattened Image Size).\n",
    "    \"\"\"\n",
    "    return tf.contrib.layers.flatten(x_tensor)\n",
    "\n",
    "\n",
    "\"\"\"\n",
    "DON'T MODIFY ANYTHING IN THIS CELL THAT IS BELOW THIS LINE\n",
    "\"\"\"\n",
    "tests.test_flatten(flatten)"
   ]
  },
  {
   "cell_type": "markdown",
   "metadata": {
    "deletable": true,
    "editable": true
   },
   "source": [
    "### Fully-Connected Layer\n",
    "Implement the `fully_conn` function to apply a fully connected layer to `x_tensor` with the shape (*Batch Size*, *num_outputs*). Shortcut option: you can use classes from the [TensorFlow Layers](https://www.tensorflow.org/api_docs/python/tf/layers) or [TensorFlow Layers (contrib)](https://www.tensorflow.org/api_guides/python/contrib.layers) packages for this layer. For more of a challenge, only use other TensorFlow packages."
   ]
  },
  {
   "cell_type": "code",
   "execution_count": 11,
   "metadata": {
    "collapsed": false,
    "deletable": true,
    "editable": true
   },
   "outputs": [
    {
     "name": "stdout",
     "output_type": "stream",
     "text": [
      "Tests Passed\n"
     ]
    }
   ],
   "source": [
    "def fully_conn(x_tensor, num_outputs):\n",
    "    \"\"\"\n",
    "    Apply a fully connected layer to x_tensor using weight and bias\n",
    "    : x_tensor: A 2-D tensor where the first dimension is batch size.\n",
    "    : num_outputs: The number of output that the new tensor should be.\n",
    "    : return: A 2-D tensor where the second dimension is num_outputs.\n",
    "    \"\"\"\n",
    "    return tf.contrib.layers.fully_connected(x_tensor, num_outputs, activation_fn=tf.nn.relu)\n",
    "\n",
    "\n",
    "\"\"\"\n",
    "DON'T MODIFY ANYTHING IN THIS CELL THAT IS BELOW THIS LINE\n",
    "\"\"\"\n",
    "tests.test_fully_conn(fully_conn)"
   ]
  },
  {
   "cell_type": "markdown",
   "metadata": {
    "deletable": true,
    "editable": true
   },
   "source": [
    "### Output Layer\n",
    "Implement the `output` function to apply a fully connected layer to `x_tensor` with the shape (*Batch Size*, *num_outputs*). Shortcut option: you can use classes from the [TensorFlow Layers](https://www.tensorflow.org/api_docs/python/tf/layers) or [TensorFlow Layers (contrib)](https://www.tensorflow.org/api_guides/python/contrib.layers) packages for this layer. For more of a challenge, only use other TensorFlow packages.\n",
    "\n",
    "**Note:** Activation, softmax, or cross entropy should **not** be applied to this."
   ]
  },
  {
   "cell_type": "code",
   "execution_count": 12,
   "metadata": {
    "collapsed": false,
    "deletable": true,
    "editable": true
   },
   "outputs": [
    {
     "name": "stdout",
     "output_type": "stream",
     "text": [
      "Tests Passed\n"
     ]
    }
   ],
   "source": [
    "def output(x_tensor, num_outputs):\n",
    "    \"\"\"\n",
    "    Apply a output layer to x_tensor using weight and bias\n",
    "    : x_tensor: A 2-D tensor where the first dimension is batch size.\n",
    "    : num_outputs: The number of output that the new tensor should be.\n",
    "    : return: A 2-D tensor where the second dimension is num_outputs.\n",
    "    \"\"\"\n",
    "    # TODO: Implement Function\n",
    "    return tf.contrib.layers.fully_connected(x_tensor, num_outputs, activation_fn=None)\n",
    "\n",
    "\n",
    "\"\"\"\n",
    "DON'T MODIFY ANYTHING IN THIS CELL THAT IS BELOW THIS LINE\n",
    "\"\"\"\n",
    "tests.test_output(output)"
   ]
  },
  {
   "cell_type": "markdown",
   "metadata": {
    "deletable": true,
    "editable": true
   },
   "source": [
    "### Create Convolutional Model\n",
    "Implement the function `conv_net` to create a convolutional neural network model. The function takes in a batch of images, `x`, and outputs logits.  Use the layers you created above to create this model:\n",
    "\n",
    "* Apply 1, 2, or 3 Convolution and Max Pool layers\n",
    "* Apply a Flatten Layer\n",
    "* Apply 1, 2, or 3 Fully Connected Layers\n",
    "* Apply an Output Layer\n",
    "* Return the output\n",
    "* Apply [TensorFlow's Dropout](https://www.tensorflow.org/api_docs/python/tf/nn/dropout) to one or more layers in the model using `keep_prob`. "
   ]
  },
  {
   "cell_type": "code",
   "execution_count": 13,
   "metadata": {
    "collapsed": false,
    "deletable": true,
    "editable": true
   },
   "outputs": [
    {
     "name": "stdout",
     "output_type": "stream",
     "text": [
      "Neural Network Built!\n"
     ]
    }
   ],
   "source": [
    "def conv_net(x, keep_prob):\n",
    "    \"\"\"\n",
    "    Create a convolutional neural network model\n",
    "    : x: Placeholder tensor that holds image data.\n",
    "    : keep_prob: Placeholder tensor that hold dropout keep probability.\n",
    "    : return: Tensor that represents logits\n",
    "    \"\"\"\n",
    "    #    Play around with different number of outputs, kernel size and stride\n",
    "    x = conv2d_maxpool(x, conv_num_outputs=32, conv_ksize=(3, 3), conv_strides=(1, 1), pool_ksize=(2, 2), pool_strides=(2, 2))\n",
    "\n",
    "    x = tf.nn.dropout(x, keep_prob)\n",
    "\n",
    "    x = conv2d_maxpool(x, conv_num_outputs=128, conv_ksize=(3, 3), conv_strides=(1, 1), pool_ksize=(2, 2), pool_strides=(2, 2))\n",
    "    x = conv2d_maxpool(x, conv_num_outputs=256, conv_ksize=(3, 3), conv_strides=(1, 1), pool_ksize=(2, 2), pool_strides=(2, 2))\n",
    "\n",
    "    x = flatten(x)\n",
    "\n",
    "    #    Play around with different number of outputs\n",
    "    x = fully_conn(x, 312)\n",
    "    x = tf.nn.dropout(x, keep_prob)\n",
    "    x = fully_conn(x, 64)\n",
    "    x = tf.nn.dropout(x, keep_prob)\n",
    "\n",
    "    #    Set this to the number of classes\n",
    "    out = output(x, 10)\n",
    "\n",
    "    return out\n",
    "\n",
    "\n",
    "\"\"\"\n",
    "DON'T MODIFY ANYTHING IN THIS CELL THAT IS BELOW THIS LINE\n",
    "\"\"\"\n",
    "\n",
    "##############################\n",
    "## Build the Neural Network ##\n",
    "##############################\n",
    "\n",
    "# Remove previous weights, bias, inputs, etc..\n",
    "tf.reset_default_graph()\n",
    "\n",
    "# Inputs\n",
    "x = neural_net_image_input((32, 32, 3))\n",
    "y = neural_net_label_input(10)\n",
    "keep_prob = neural_net_keep_prob_input()\n",
    "\n",
    "# Model\n",
    "logits = conv_net(x, keep_prob)\n",
    "\n",
    "# Name logits Tensor, so that is can be loaded from disk after training\n",
    "logits = tf.identity(logits, name='logits')\n",
    "\n",
    "# Loss and Optimizer\n",
    "cost = tf.reduce_mean(tf.nn.softmax_cross_entropy_with_logits(logits=logits, labels=y))\n",
    "optimizer = tf.train.AdamOptimizer().minimize(cost)\n",
    "\n",
    "# Accuracy\n",
    "correct_pred = tf.equal(tf.argmax(logits, 1), tf.argmax(y, 1))\n",
    "accuracy = tf.reduce_mean(tf.cast(correct_pred, tf.float32), name='accuracy')\n",
    "\n",
    "tests.test_conv_net(conv_net)"
   ]
  },
  {
   "cell_type": "markdown",
   "metadata": {
    "deletable": true,
    "editable": true
   },
   "source": [
    "## Train the Neural Network\n",
    "### Single Optimization\n",
    "Implement the function `train_neural_network` to do a single optimization.  The optimization should use `optimizer` to optimize in `session` with a `feed_dict` of the following:\n",
    "* `x` for image input\n",
    "* `y` for labels\n",
    "* `keep_prob` for keep probability for dropout\n",
    "\n",
    "This function will be called for each batch, so `tf.global_variables_initializer()` has already been called.\n",
    "\n",
    "Note: Nothing needs to be returned. This function is only optimizing the neural network."
   ]
  },
  {
   "cell_type": "code",
   "execution_count": 14,
   "metadata": {
    "collapsed": false,
    "deletable": true,
    "editable": true
   },
   "outputs": [
    {
     "name": "stdout",
     "output_type": "stream",
     "text": [
      "Tests Passed\n"
     ]
    }
   ],
   "source": [
    "def train_neural_network(session, optimizer, keep_probability, feature_batch, label_batch):\n",
    "    \"\"\"\n",
    "    Optimize the session on a batch of images and labels\n",
    "    : session: Current TensorFlow session\n",
    "    : optimizer: TensorFlow optimizer function\n",
    "    : keep_probability: keep probability\n",
    "    : feature_batch: Batch of Numpy image data\n",
    "    : label_batch: Batch of Numpy label data\n",
    "    \"\"\"\n",
    "    session.run(optimizer, feed_dict={x: feature_batch, y: label_batch, keep_prob: keep_probability})\n",
    "\n",
    "\n",
    "\"\"\"\n",
    "DON'T MODIFY ANYTHING IN THIS CELL THAT IS BELOW THIS LINE\n",
    "\"\"\"\n",
    "tests.test_train_nn(train_neural_network)"
   ]
  },
  {
   "cell_type": "markdown",
   "metadata": {
    "deletable": true,
    "editable": true
   },
   "source": [
    "### Show Stats\n",
    "Implement the function `print_stats` to print loss and validation accuracy.  Use the global variables `valid_features` and `valid_labels` to calculate validation accuracy.  Use a keep probability of `1.0` to calculate the loss and validation accuracy."
   ]
  },
  {
   "cell_type": "code",
   "execution_count": 15,
   "metadata": {
    "collapsed": true,
    "deletable": true,
    "editable": true
   },
   "outputs": [],
   "source": [
    "def print_stats(session, feature_batch, label_batch, cost, accuracy):\n",
    "    \"\"\"\n",
    "    Print information about loss and validation accuracy\n",
    "    : session: Current TensorFlow session\n",
    "    : feature_batch: Batch of Numpy image data\n",
    "    : label_batch: Batch of Numpy label data\n",
    "    : cost: TensorFlow cost function\n",
    "    : accuracy: TensorFlow accuracy function\n",
    "    \"\"\"\n",
    "    loss = session.run(cost, feed_dict={x: feature_batch, y: label_batch, keep_prob: 1.0})\n",
    "    accuracy = session.run(accuracy, feed_dict={x: valid_features, y: valid_labels, keep_prob: 1.0})\n",
    "    print('Loss: {:>10.4f} Validation Accuracy: {:.6f}'.format(loss, accuracy))"
   ]
  },
  {
   "cell_type": "markdown",
   "metadata": {
    "deletable": true,
    "editable": true
   },
   "source": [
    "### Hyperparameters\n",
    "Tune the following parameters:\n",
    "* Set `epochs` to the number of iterations until the network stops learning or start overfitting\n",
    "* Set `batch_size` to the highest number that your machine has memory for.  Most people set them to common sizes of memory:\n",
    " * 64\n",
    " * 128\n",
    " * 256\n",
    " * ...\n",
    "* Set `keep_probability` to the probability of keeping a node using dropout"
   ]
  },
  {
   "cell_type": "code",
   "execution_count": 16,
   "metadata": {
    "collapsed": true,
    "deletable": true,
    "editable": true
   },
   "outputs": [],
   "source": [
    "# TODO: Tune Parameters\n",
    "epochs = 50\n",
    "batch_size = 512\n",
    "keep_probability = 0.5"
   ]
  },
  {
   "cell_type": "markdown",
   "metadata": {
    "deletable": true,
    "editable": true
   },
   "source": [
    "### Train on a Single CIFAR-10 Batch\n",
    "Instead of training the neural network on all the CIFAR-10 batches of data, let's use a single batch. This should save time while you iterate on the model to get a better accuracy.  Once the final validation accuracy is 50% or greater, run the model on all the data in the next section."
   ]
  },
  {
   "cell_type": "code",
   "execution_count": 17,
   "metadata": {
    "collapsed": false,
    "deletable": true,
    "editable": true
   },
   "outputs": [
    {
     "name": "stdout",
     "output_type": "stream",
     "text": [
      "Checking the Training on a Single Batch...\n",
      "Epoch  1, CIFAR-10 Batch 1:  Loss:     2.3024 Validation Accuracy: 0.105800\n",
      "Epoch  2, CIFAR-10 Batch 1:  Loss:     2.2901 Validation Accuracy: 0.153600\n",
      "Epoch  3, CIFAR-10 Batch 1:  Loss:     2.2424 Validation Accuracy: 0.174000\n",
      "Epoch  4, CIFAR-10 Batch 1:  Loss:     2.2383 Validation Accuracy: 0.160800\n",
      "Epoch  5, CIFAR-10 Batch 1:  Loss:     2.1464 Validation Accuracy: 0.235000\n",
      "Epoch  6, CIFAR-10 Batch 1:  Loss:     2.1172 Validation Accuracy: 0.249400\n",
      "Epoch  7, CIFAR-10 Batch 1:  Loss:     2.0487 Validation Accuracy: 0.286800\n",
      "Epoch  8, CIFAR-10 Batch 1:  Loss:     1.9313 Validation Accuracy: 0.337800\n",
      "Epoch  9, CIFAR-10 Batch 1:  Loss:     1.8948 Validation Accuracy: 0.365600\n",
      "Epoch 10, CIFAR-10 Batch 1:  Loss:     1.8562 Validation Accuracy: 0.360800\n",
      "Epoch 11, CIFAR-10 Batch 1:  Loss:     1.8222 Validation Accuracy: 0.385800\n",
      "Epoch 12, CIFAR-10 Batch 1:  Loss:     1.7537 Validation Accuracy: 0.405800\n",
      "Epoch 13, CIFAR-10 Batch 1:  Loss:     1.7175 Validation Accuracy: 0.415400\n",
      "Epoch 14, CIFAR-10 Batch 1:  Loss:     1.6974 Validation Accuracy: 0.425800\n",
      "Epoch 15, CIFAR-10 Batch 1:  Loss:     1.6412 Validation Accuracy: 0.438400\n",
      "Epoch 16, CIFAR-10 Batch 1:  Loss:     1.5974 Validation Accuracy: 0.452800\n",
      "Epoch 17, CIFAR-10 Batch 1:  Loss:     1.5647 Validation Accuracy: 0.469000\n",
      "Epoch 18, CIFAR-10 Batch 1:  Loss:     1.5495 Validation Accuracy: 0.463800\n",
      "Epoch 19, CIFAR-10 Batch 1:  Loss:     1.5056 Validation Accuracy: 0.471800\n",
      "Epoch 20, CIFAR-10 Batch 1:  Loss:     1.4657 Validation Accuracy: 0.473000\n",
      "Epoch 21, CIFAR-10 Batch 1:  Loss:     1.4964 Validation Accuracy: 0.469000\n",
      "Epoch 22, CIFAR-10 Batch 1:  Loss:     1.3975 Validation Accuracy: 0.487200\n",
      "Epoch 23, CIFAR-10 Batch 1:  Loss:     1.3931 Validation Accuracy: 0.478600\n",
      "Epoch 24, CIFAR-10 Batch 1:  Loss:     1.3478 Validation Accuracy: 0.493000\n",
      "Epoch 25, CIFAR-10 Batch 1:  Loss:     1.3484 Validation Accuracy: 0.486200\n",
      "Epoch 26, CIFAR-10 Batch 1:  Loss:     1.3637 Validation Accuracy: 0.481800\n",
      "Epoch 27, CIFAR-10 Batch 1:  Loss:     1.2543 Validation Accuracy: 0.508600\n",
      "Epoch 28, CIFAR-10 Batch 1:  Loss:     1.3120 Validation Accuracy: 0.494800\n",
      "Epoch 29, CIFAR-10 Batch 1:  Loss:     1.2877 Validation Accuracy: 0.481400\n",
      "Epoch 30, CIFAR-10 Batch 1:  Loss:     1.1615 Validation Accuracy: 0.515400\n",
      "Epoch 31, CIFAR-10 Batch 1:  Loss:     1.2549 Validation Accuracy: 0.497600\n",
      "Epoch 32, CIFAR-10 Batch 1:  Loss:     1.2074 Validation Accuracy: 0.515000\n",
      "Epoch 33, CIFAR-10 Batch 1:  Loss:     1.0851 Validation Accuracy: 0.517000\n",
      "Epoch 34, CIFAR-10 Batch 1:  Loss:     1.0594 Validation Accuracy: 0.532200\n",
      "Epoch 35, CIFAR-10 Batch 1:  Loss:     1.0538 Validation Accuracy: 0.529000\n",
      "Epoch 36, CIFAR-10 Batch 1:  Loss:     1.2043 Validation Accuracy: 0.503800\n",
      "Epoch 37, CIFAR-10 Batch 1:  Loss:     1.0306 Validation Accuracy: 0.525800\n",
      "Epoch 38, CIFAR-10 Batch 1:  Loss:     0.9581 Validation Accuracy: 0.547400\n",
      "Epoch 39, CIFAR-10 Batch 1:  Loss:     0.9585 Validation Accuracy: 0.541800\n",
      "Epoch 40, CIFAR-10 Batch 1:  Loss:     0.8418 Validation Accuracy: 0.552200\n",
      "Epoch 41, CIFAR-10 Batch 1:  Loss:     0.7703 Validation Accuracy: 0.570600\n",
      "Epoch 42, CIFAR-10 Batch 1:  Loss:     0.7860 Validation Accuracy: 0.571200\n",
      "Epoch 43, CIFAR-10 Batch 1:  Loss:     0.7008 Validation Accuracy: 0.596800\n",
      "Epoch 44, CIFAR-10 Batch 1:  Loss:     0.6645 Validation Accuracy: 0.603000\n",
      "Epoch 45, CIFAR-10 Batch 1:  Loss:     0.6725 Validation Accuracy: 0.592600\n",
      "Epoch 46, CIFAR-10 Batch 1:  Loss:     0.5979 Validation Accuracy: 0.602600\n",
      "Epoch 47, CIFAR-10 Batch 1:  Loss:     0.6079 Validation Accuracy: 0.594800\n",
      "Epoch 48, CIFAR-10 Batch 1:  Loss:     0.6258 Validation Accuracy: 0.590800\n",
      "Epoch 49, CIFAR-10 Batch 1:  Loss:     0.5568 Validation Accuracy: 0.602000\n",
      "Epoch 50, CIFAR-10 Batch 1:  Loss:     0.6729 Validation Accuracy: 0.583400\n"
     ]
    }
   ],
   "source": [
    "\"\"\"\n",
    "DON'T MODIFY ANYTHING IN THIS CELL\n",
    "\"\"\"\n",
    "print('Checking the Training on a Single Batch...')\n",
    "with tf.Session() as sess:\n",
    "    # Initializing the variables\n",
    "    sess.run(tf.global_variables_initializer())\n",
    "    \n",
    "    # Training cycle\n",
    "    for epoch in range(epochs):\n",
    "        batch_i = 1\n",
    "        for batch_features, batch_labels in helper.load_preprocess_training_batch(batch_i, batch_size):\n",
    "            train_neural_network(sess, optimizer, keep_probability, batch_features, batch_labels)\n",
    "        print('Epoch {:>2}, CIFAR-10 Batch {}:  '.format(epoch + 1, batch_i), end='')\n",
    "        print_stats(sess, batch_features, batch_labels, cost, accuracy)"
   ]
  },
  {
   "cell_type": "markdown",
   "metadata": {
    "deletable": true,
    "editable": true
   },
   "source": [
    "### Fully Train the Model\n",
    "Now that you got a good accuracy with a single CIFAR-10 batch, try it with all five batches."
   ]
  },
  {
   "cell_type": "code",
   "execution_count": 18,
   "metadata": {
    "collapsed": false,
    "deletable": true,
    "editable": true
   },
   "outputs": [
    {
     "name": "stdout",
     "output_type": "stream",
     "text": [
      "Training...\n",
      "Epoch  1, CIFAR-10 Batch 1:  Loss:     2.3004 Validation Accuracy: 0.135000\n",
      "Epoch  1, CIFAR-10 Batch 2:  Loss:     2.2917 Validation Accuracy: 0.178000\n",
      "Epoch  1, CIFAR-10 Batch 3:  Loss:     2.2467 Validation Accuracy: 0.201400\n",
      "Epoch  1, CIFAR-10 Batch 4:  Loss:     2.1551 Validation Accuracy: 0.211400\n",
      "Epoch  1, CIFAR-10 Batch 5:  Loss:     2.0980 Validation Accuracy: 0.253200\n",
      "Epoch  2, CIFAR-10 Batch 1:  Loss:     2.0600 Validation Accuracy: 0.306000\n",
      "Epoch  2, CIFAR-10 Batch 2:  Loss:     1.9727 Validation Accuracy: 0.315200\n",
      "Epoch  2, CIFAR-10 Batch 3:  Loss:     1.8929 Validation Accuracy: 0.308800\n",
      "Epoch  2, CIFAR-10 Batch 4:  Loss:     1.8688 Validation Accuracy: 0.332600\n",
      "Epoch  2, CIFAR-10 Batch 5:  Loss:     1.8589 Validation Accuracy: 0.316800\n",
      "Epoch  3, CIFAR-10 Batch 1:  Loss:     1.8374 Validation Accuracy: 0.397200\n",
      "Epoch  3, CIFAR-10 Batch 2:  Loss:     1.7762 Validation Accuracy: 0.364800\n",
      "Epoch  3, CIFAR-10 Batch 3:  Loss:     1.6240 Validation Accuracy: 0.386600\n",
      "Epoch  3, CIFAR-10 Batch 4:  Loss:     1.6341 Validation Accuracy: 0.392400\n",
      "Epoch  3, CIFAR-10 Batch 5:  Loss:     1.6590 Validation Accuracy: 0.375800\n",
      "Epoch  4, CIFAR-10 Batch 1:  Loss:     1.6872 Validation Accuracy: 0.426600\n",
      "Epoch  4, CIFAR-10 Batch 2:  Loss:     1.6362 Validation Accuracy: 0.421800\n",
      "Epoch  4, CIFAR-10 Batch 3:  Loss:     1.5669 Validation Accuracy: 0.381600\n",
      "Epoch  4, CIFAR-10 Batch 4:  Loss:     1.4140 Validation Accuracy: 0.475400\n",
      "Epoch  4, CIFAR-10 Batch 5:  Loss:     1.5449 Validation Accuracy: 0.428000\n",
      "Epoch  5, CIFAR-10 Batch 1:  Loss:     1.5614 Validation Accuracy: 0.478000\n",
      "Epoch  5, CIFAR-10 Batch 2:  Loss:     1.5593 Validation Accuracy: 0.452200\n",
      "Epoch  5, CIFAR-10 Batch 3:  Loss:     1.3899 Validation Accuracy: 0.460400\n",
      "Epoch  5, CIFAR-10 Batch 4:  Loss:     1.3704 Validation Accuracy: 0.472200\n",
      "Epoch  5, CIFAR-10 Batch 5:  Loss:     1.4131 Validation Accuracy: 0.461800\n",
      "Epoch  6, CIFAR-10 Batch 1:  Loss:     1.5029 Validation Accuracy: 0.509200\n",
      "Epoch  6, CIFAR-10 Batch 2:  Loss:     1.4749 Validation Accuracy: 0.497400\n",
      "Epoch  6, CIFAR-10 Batch 3:  Loss:     1.2466 Validation Accuracy: 0.513000\n",
      "Epoch  6, CIFAR-10 Batch 4:  Loss:     1.3022 Validation Accuracy: 0.506600\n",
      "Epoch  6, CIFAR-10 Batch 5:  Loss:     1.4669 Validation Accuracy: 0.472200\n",
      "Epoch  7, CIFAR-10 Batch 1:  Loss:     1.4629 Validation Accuracy: 0.538000\n",
      "Epoch  7, CIFAR-10 Batch 2:  Loss:     1.4291 Validation Accuracy: 0.512600\n",
      "Epoch  7, CIFAR-10 Batch 3:  Loss:     1.2998 Validation Accuracy: 0.493800\n",
      "Epoch  7, CIFAR-10 Batch 4:  Loss:     1.1370 Validation Accuracy: 0.561800\n",
      "Epoch  7, CIFAR-10 Batch 5:  Loss:     1.2715 Validation Accuracy: 0.530200\n",
      "Epoch  8, CIFAR-10 Batch 1:  Loss:     1.4454 Validation Accuracy: 0.557200\n",
      "Epoch  8, CIFAR-10 Batch 2:  Loss:     1.4380 Validation Accuracy: 0.520000\n",
      "Epoch  8, CIFAR-10 Batch 3:  Loss:     1.0496 Validation Accuracy: 0.561000\n",
      "Epoch  8, CIFAR-10 Batch 4:  Loss:     1.0441 Validation Accuracy: 0.581400\n",
      "Epoch  8, CIFAR-10 Batch 5:  Loss:     1.2284 Validation Accuracy: 0.544000\n",
      "Epoch  9, CIFAR-10 Batch 1:  Loss:     1.3246 Validation Accuracy: 0.572600\n",
      "Epoch  9, CIFAR-10 Batch 2:  Loss:     1.3588 Validation Accuracy: 0.529600\n",
      "Epoch  9, CIFAR-10 Batch 3:  Loss:     1.1085 Validation Accuracy: 0.544200\n",
      "Epoch  9, CIFAR-10 Batch 4:  Loss:     1.2292 Validation Accuracy: 0.534400\n",
      "Epoch  9, CIFAR-10 Batch 5:  Loss:     1.0805 Validation Accuracy: 0.582400\n",
      "Epoch 10, CIFAR-10 Batch 1:  Loss:     1.1406 Validation Accuracy: 0.600800\n",
      "Epoch 10, CIFAR-10 Batch 2:  Loss:     1.2930 Validation Accuracy: 0.541600\n",
      "Epoch 10, CIFAR-10 Batch 3:  Loss:     1.1191 Validation Accuracy: 0.558400\n",
      "Epoch 10, CIFAR-10 Batch 4:  Loss:     1.1057 Validation Accuracy: 0.578400\n",
      "Epoch 10, CIFAR-10 Batch 5:  Loss:     1.1467 Validation Accuracy: 0.568800\n",
      "Epoch 11, CIFAR-10 Batch 1:  Loss:     1.2385 Validation Accuracy: 0.607200\n",
      "Epoch 11, CIFAR-10 Batch 2:  Loss:     1.2578 Validation Accuracy: 0.567000\n",
      "Epoch 11, CIFAR-10 Batch 3:  Loss:     1.0997 Validation Accuracy: 0.565400\n",
      "Epoch 11, CIFAR-10 Batch 4:  Loss:     1.0448 Validation Accuracy: 0.590200\n",
      "Epoch 11, CIFAR-10 Batch 5:  Loss:     1.0577 Validation Accuracy: 0.590000\n",
      "Epoch 12, CIFAR-10 Batch 1:  Loss:     1.0162 Validation Accuracy: 0.643200\n",
      "Epoch 12, CIFAR-10 Batch 2:  Loss:     1.1778 Validation Accuracy: 0.573400\n",
      "Epoch 12, CIFAR-10 Batch 3:  Loss:     0.9122 Validation Accuracy: 0.604000\n",
      "Epoch 12, CIFAR-10 Batch 4:  Loss:     1.0803 Validation Accuracy: 0.574600\n",
      "Epoch 12, CIFAR-10 Batch 5:  Loss:     0.8743 Validation Accuracy: 0.638200\n",
      "Epoch 13, CIFAR-10 Batch 1:  Loss:     1.0108 Validation Accuracy: 0.642400\n",
      "Epoch 13, CIFAR-10 Batch 2:  Loss:     1.0553 Validation Accuracy: 0.609000\n",
      "Epoch 13, CIFAR-10 Batch 3:  Loss:     0.8281 Validation Accuracy: 0.632600\n",
      "Epoch 13, CIFAR-10 Batch 4:  Loss:     0.9811 Validation Accuracy: 0.601000\n",
      "Epoch 13, CIFAR-10 Batch 5:  Loss:     0.9085 Validation Accuracy: 0.626800\n",
      "Epoch 14, CIFAR-10 Batch 1:  Loss:     0.9804 Validation Accuracy: 0.651200\n",
      "Epoch 14, CIFAR-10 Batch 2:  Loss:     1.0736 Validation Accuracy: 0.611000\n",
      "Epoch 14, CIFAR-10 Batch 3:  Loss:     0.8104 Validation Accuracy: 0.637000\n",
      "Epoch 14, CIFAR-10 Batch 4:  Loss:     0.8625 Validation Accuracy: 0.637200\n",
      "Epoch 14, CIFAR-10 Batch 5:  Loss:     0.8930 Validation Accuracy: 0.633800\n",
      "Epoch 15, CIFAR-10 Batch 1:  Loss:     0.9248 Validation Accuracy: 0.663200\n",
      "Epoch 15, CIFAR-10 Batch 2:  Loss:     1.0218 Validation Accuracy: 0.628200\n",
      "Epoch 15, CIFAR-10 Batch 3:  Loss:     0.7824 Validation Accuracy: 0.647000\n",
      "Epoch 15, CIFAR-10 Batch 4:  Loss:     0.8195 Validation Accuracy: 0.649200\n",
      "Epoch 15, CIFAR-10 Batch 5:  Loss:     0.8523 Validation Accuracy: 0.638400\n",
      "Epoch 16, CIFAR-10 Batch 1:  Loss:     0.9383 Validation Accuracy: 0.671600\n",
      "Epoch 16, CIFAR-10 Batch 2:  Loss:     0.9909 Validation Accuracy: 0.630600\n",
      "Epoch 16, CIFAR-10 Batch 3:  Loss:     0.6912 Validation Accuracy: 0.666000\n",
      "Epoch 16, CIFAR-10 Batch 4:  Loss:     0.7426 Validation Accuracy: 0.664400\n",
      "Epoch 16, CIFAR-10 Batch 5:  Loss:     0.7714 Validation Accuracy: 0.661000\n",
      "Epoch 17, CIFAR-10 Batch 1:  Loss:     0.8103 Validation Accuracy: 0.685800\n",
      "Epoch 17, CIFAR-10 Batch 2:  Loss:     0.9397 Validation Accuracy: 0.642000\n",
      "Epoch 17, CIFAR-10 Batch 3:  Loss:     0.6785 Validation Accuracy: 0.679800\n",
      "Epoch 17, CIFAR-10 Batch 4:  Loss:     0.7722 Validation Accuracy: 0.656400\n",
      "Epoch 17, CIFAR-10 Batch 5:  Loss:     0.7522 Validation Accuracy: 0.662600\n",
      "Epoch 18, CIFAR-10 Batch 1:  Loss:     0.7824 Validation Accuracy: 0.684800\n",
      "Epoch 18, CIFAR-10 Batch 2:  Loss:     0.8567 Validation Accuracy: 0.660800\n",
      "Epoch 18, CIFAR-10 Batch 3:  Loss:     0.6246 Validation Accuracy: 0.689000\n",
      "Epoch 18, CIFAR-10 Batch 4:  Loss:     0.7238 Validation Accuracy: 0.670200\n",
      "Epoch 18, CIFAR-10 Batch 5:  Loss:     0.7882 Validation Accuracy: 0.660400\n",
      "Epoch 19, CIFAR-10 Batch 1:  Loss:     0.7866 Validation Accuracy: 0.689000\n",
      "Epoch 19, CIFAR-10 Batch 2:  Loss:     0.7586 Validation Accuracy: 0.692800\n",
      "Epoch 19, CIFAR-10 Batch 3:  Loss:     0.6345 Validation Accuracy: 0.681800\n",
      "Epoch 19, CIFAR-10 Batch 4:  Loss:     0.6283 Validation Accuracy: 0.682800\n",
      "Epoch 19, CIFAR-10 Batch 5:  Loss:     0.7645 Validation Accuracy: 0.649400\n",
      "Epoch 20, CIFAR-10 Batch 1:  Loss:     0.6720 Validation Accuracy: 0.707200\n",
      "Epoch 20, CIFAR-10 Batch 2:  Loss:     0.8210 Validation Accuracy: 0.669400\n",
      "Epoch 20, CIFAR-10 Batch 3:  Loss:     0.5938 Validation Accuracy: 0.704600\n",
      "Epoch 20, CIFAR-10 Batch 4:  Loss:     0.5908 Validation Accuracy: 0.697800\n",
      "Epoch 20, CIFAR-10 Batch 5:  Loss:     0.7534 Validation Accuracy: 0.669200\n",
      "Epoch 21, CIFAR-10 Batch 1:  Loss:     0.6927 Validation Accuracy: 0.721400\n",
      "Epoch 21, CIFAR-10 Batch 2:  Loss:     0.6872 Validation Accuracy: 0.704600\n",
      "Epoch 21, CIFAR-10 Batch 3:  Loss:     0.6442 Validation Accuracy: 0.686200\n",
      "Epoch 21, CIFAR-10 Batch 4:  Loss:     0.5541 Validation Accuracy: 0.709600\n",
      "Epoch 21, CIFAR-10 Batch 5:  Loss:     0.6823 Validation Accuracy: 0.674800\n",
      "Epoch 22, CIFAR-10 Batch 1:  Loss:     0.6599 Validation Accuracy: 0.711000\n",
      "Epoch 22, CIFAR-10 Batch 2:  Loss:     0.7249 Validation Accuracy: 0.686400\n",
      "Epoch 22, CIFAR-10 Batch 3:  Loss:     0.6124 Validation Accuracy: 0.694200\n",
      "Epoch 22, CIFAR-10 Batch 4:  Loss:     0.4624 Validation Accuracy: 0.729200\n",
      "Epoch 22, CIFAR-10 Batch 5:  Loss:     0.6362 Validation Accuracy: 0.680600\n",
      "Epoch 23, CIFAR-10 Batch 1:  Loss:     0.6897 Validation Accuracy: 0.711000\n",
      "Epoch 23, CIFAR-10 Batch 2:  Loss:     0.5832 Validation Accuracy: 0.725200\n",
      "Epoch 23, CIFAR-10 Batch 3:  Loss:     0.5253 Validation Accuracy: 0.711800\n",
      "Epoch 23, CIFAR-10 Batch 4:  Loss:     0.5005 Validation Accuracy: 0.717800\n",
      "Epoch 23, CIFAR-10 Batch 5:  Loss:     0.6674 Validation Accuracy: 0.678400\n",
      "Epoch 24, CIFAR-10 Batch 1:  Loss:     0.6091 Validation Accuracy: 0.716800\n",
      "Epoch 24, CIFAR-10 Batch 2:  Loss:     0.5920 Validation Accuracy: 0.718000\n",
      "Epoch 24, CIFAR-10 Batch 3:  Loss:     0.4855 Validation Accuracy: 0.726400\n",
      "Epoch 24, CIFAR-10 Batch 4:  Loss:     0.4942 Validation Accuracy: 0.706400\n",
      "Epoch 24, CIFAR-10 Batch 5:  Loss:     0.5998 Validation Accuracy: 0.704200\n",
      "Epoch 25, CIFAR-10 Batch 1:  Loss:     0.6347 Validation Accuracy: 0.723200\n",
      "Epoch 25, CIFAR-10 Batch 2:  Loss:     0.6050 Validation Accuracy: 0.711800\n",
      "Epoch 25, CIFAR-10 Batch 3:  Loss:     0.5187 Validation Accuracy: 0.710200\n",
      "Epoch 25, CIFAR-10 Batch 4:  Loss:     0.4571 Validation Accuracy: 0.717800\n",
      "Epoch 25, CIFAR-10 Batch 5:  Loss:     0.5943 Validation Accuracy: 0.697000\n",
      "Epoch 26, CIFAR-10 Batch 1:  Loss:     0.5304 Validation Accuracy: 0.734000\n",
      "Epoch 26, CIFAR-10 Batch 2:  Loss:     0.5070 Validation Accuracy: 0.730800\n",
      "Epoch 26, CIFAR-10 Batch 3:  Loss:     0.4834 Validation Accuracy: 0.720600\n",
      "Epoch 26, CIFAR-10 Batch 4:  Loss:     0.4912 Validation Accuracy: 0.710000\n",
      "Epoch 26, CIFAR-10 Batch 5:  Loss:     0.5925 Validation Accuracy: 0.697200\n",
      "Epoch 27, CIFAR-10 Batch 1:  Loss:     0.5391 Validation Accuracy: 0.722600\n",
      "Epoch 27, CIFAR-10 Batch 2:  Loss:     0.5091 Validation Accuracy: 0.729600\n",
      "Epoch 27, CIFAR-10 Batch 3:  Loss:     0.4225 Validation Accuracy: 0.728800\n",
      "Epoch 27, CIFAR-10 Batch 4:  Loss:     0.4568 Validation Accuracy: 0.717000\n",
      "Epoch 27, CIFAR-10 Batch 5:  Loss:     0.5898 Validation Accuracy: 0.698200\n",
      "Epoch 28, CIFAR-10 Batch 1:  Loss:     0.4986 Validation Accuracy: 0.733800\n",
      "Epoch 28, CIFAR-10 Batch 2:  Loss:     0.4831 Validation Accuracy: 0.739600\n",
      "Epoch 28, CIFAR-10 Batch 3:  Loss:     0.3903 Validation Accuracy: 0.745600\n",
      "Epoch 28, CIFAR-10 Batch 4:  Loss:     0.4044 Validation Accuracy: 0.728200\n",
      "Epoch 28, CIFAR-10 Batch 5:  Loss:     0.4834 Validation Accuracy: 0.719600\n",
      "Epoch 29, CIFAR-10 Batch 1:  Loss:     0.6425 Validation Accuracy: 0.718600\n",
      "Epoch 29, CIFAR-10 Batch 2:  Loss:     0.4831 Validation Accuracy: 0.735000\n",
      "Epoch 29, CIFAR-10 Batch 3:  Loss:     0.4603 Validation Accuracy: 0.724000\n",
      "Epoch 29, CIFAR-10 Batch 4:  Loss:     0.3562 Validation Accuracy: 0.733600\n",
      "Epoch 29, CIFAR-10 Batch 5:  Loss:     0.4478 Validation Accuracy: 0.726600\n",
      "Epoch 30, CIFAR-10 Batch 1:  Loss:     0.4845 Validation Accuracy: 0.747200\n",
      "Epoch 30, CIFAR-10 Batch 2:  Loss:     0.4914 Validation Accuracy: 0.734600\n",
      "Epoch 30, CIFAR-10 Batch 3:  Loss:     0.3520 Validation Accuracy: 0.746600\n",
      "Epoch 30, CIFAR-10 Batch 4:  Loss:     0.3604 Validation Accuracy: 0.732000\n",
      "Epoch 30, CIFAR-10 Batch 5:  Loss:     0.3998 Validation Accuracy: 0.733000\n",
      "Epoch 31, CIFAR-10 Batch 1:  Loss:     0.6169 Validation Accuracy: 0.719000\n",
      "Epoch 31, CIFAR-10 Batch 2:  Loss:     0.4422 Validation Accuracy: 0.742200\n",
      "Epoch 31, CIFAR-10 Batch 3:  Loss:     0.3481 Validation Accuracy: 0.744800\n",
      "Epoch 31, CIFAR-10 Batch 4:  Loss:     0.3493 Validation Accuracy: 0.743800\n",
      "Epoch 31, CIFAR-10 Batch 5:  Loss:     0.4676 Validation Accuracy: 0.722600\n",
      "Epoch 32, CIFAR-10 Batch 1:  Loss:     0.5005 Validation Accuracy: 0.734200\n",
      "Epoch 32, CIFAR-10 Batch 2:  Loss:     0.4475 Validation Accuracy: 0.734800\n",
      "Epoch 32, CIFAR-10 Batch 3:  Loss:     0.3970 Validation Accuracy: 0.727600\n",
      "Epoch 32, CIFAR-10 Batch 4:  Loss:     0.3332 Validation Accuracy: 0.745200\n",
      "Epoch 32, CIFAR-10 Batch 5:  Loss:     0.4336 Validation Accuracy: 0.716400\n",
      "Epoch 33, CIFAR-10 Batch 1:  Loss:     0.4497 Validation Accuracy: 0.744400\n",
      "Epoch 33, CIFAR-10 Batch 2:  Loss:     0.4000 Validation Accuracy: 0.749400\n",
      "Epoch 33, CIFAR-10 Batch 3:  Loss:     0.3310 Validation Accuracy: 0.752800\n",
      "Epoch 33, CIFAR-10 Batch 4:  Loss:     0.3331 Validation Accuracy: 0.743600\n",
      "Epoch 33, CIFAR-10 Batch 5:  Loss:     0.3477 Validation Accuracy: 0.750400\n",
      "Epoch 34, CIFAR-10 Batch 1:  Loss:     0.4684 Validation Accuracy: 0.742400\n",
      "Epoch 34, CIFAR-10 Batch 2:  Loss:     0.4399 Validation Accuracy: 0.736800\n",
      "Epoch 34, CIFAR-10 Batch 3:  Loss:     0.3251 Validation Accuracy: 0.749400\n",
      "Epoch 34, CIFAR-10 Batch 4:  Loss:     0.3052 Validation Accuracy: 0.752600\n",
      "Epoch 34, CIFAR-10 Batch 5:  Loss:     0.3785 Validation Accuracy: 0.737400\n",
      "Epoch 35, CIFAR-10 Batch 1:  Loss:     0.4270 Validation Accuracy: 0.739200\n",
      "Epoch 35, CIFAR-10 Batch 2:  Loss:     0.3563 Validation Accuracy: 0.752600\n",
      "Epoch 35, CIFAR-10 Batch 3:  Loss:     0.2914 Validation Accuracy: 0.750200\n",
      "Epoch 35, CIFAR-10 Batch 4:  Loss:     0.2752 Validation Accuracy: 0.747800\n",
      "Epoch 35, CIFAR-10 Batch 5:  Loss:     0.3081 Validation Accuracy: 0.750800\n",
      "Epoch 36, CIFAR-10 Batch 1:  Loss:     0.3926 Validation Accuracy: 0.747800\n",
      "Epoch 36, CIFAR-10 Batch 2:  Loss:     0.3971 Validation Accuracy: 0.741800\n",
      "Epoch 36, CIFAR-10 Batch 3:  Loss:     0.2936 Validation Accuracy: 0.746000\n",
      "Epoch 36, CIFAR-10 Batch 4:  Loss:     0.2775 Validation Accuracy: 0.743800\n",
      "Epoch 36, CIFAR-10 Batch 5:  Loss:     0.3574 Validation Accuracy: 0.730800\n",
      "Epoch 37, CIFAR-10 Batch 1:  Loss:     0.3739 Validation Accuracy: 0.752000\n",
      "Epoch 37, CIFAR-10 Batch 2:  Loss:     0.3975 Validation Accuracy: 0.741400\n",
      "Epoch 37, CIFAR-10 Batch 3:  Loss:     0.2537 Validation Accuracy: 0.766600\n",
      "Epoch 37, CIFAR-10 Batch 4:  Loss:     0.2983 Validation Accuracy: 0.748400\n",
      "Epoch 37, CIFAR-10 Batch 5:  Loss:     0.3132 Validation Accuracy: 0.748400\n",
      "Epoch 38, CIFAR-10 Batch 1:  Loss:     0.3419 Validation Accuracy: 0.753600\n",
      "Epoch 38, CIFAR-10 Batch 2:  Loss:     0.3883 Validation Accuracy: 0.747600\n",
      "Epoch 38, CIFAR-10 Batch 3:  Loss:     0.3090 Validation Accuracy: 0.746600\n",
      "Epoch 38, CIFAR-10 Batch 4:  Loss:     0.2941 Validation Accuracy: 0.751400\n",
      "Epoch 38, CIFAR-10 Batch 5:  Loss:     0.2886 Validation Accuracy: 0.747400\n",
      "Epoch 39, CIFAR-10 Batch 1:  Loss:     0.3492 Validation Accuracy: 0.751600\n",
      "Epoch 39, CIFAR-10 Batch 2:  Loss:     0.4076 Validation Accuracy: 0.737000\n",
      "Epoch 39, CIFAR-10 Batch 3:  Loss:     0.3178 Validation Accuracy: 0.744800\n",
      "Epoch 39, CIFAR-10 Batch 4:  Loss:     0.2493 Validation Accuracy: 0.754400\n",
      "Epoch 39, CIFAR-10 Batch 5:  Loss:     0.3018 Validation Accuracy: 0.742400\n",
      "Epoch 40, CIFAR-10 Batch 1:  Loss:     0.3504 Validation Accuracy: 0.744800\n",
      "Epoch 40, CIFAR-10 Batch 2:  Loss:     0.3415 Validation Accuracy: 0.746200\n",
      "Epoch 40, CIFAR-10 Batch 3:  Loss:     0.3276 Validation Accuracy: 0.739200\n",
      "Epoch 40, CIFAR-10 Batch 4:  Loss:     0.3452 Validation Accuracy: 0.732200\n",
      "Epoch 40, CIFAR-10 Batch 5:  Loss:     0.2935 Validation Accuracy: 0.737600\n",
      "Epoch 41, CIFAR-10 Batch 1:  Loss:     0.3365 Validation Accuracy: 0.744400\n",
      "Epoch 41, CIFAR-10 Batch 2:  Loss:     0.3405 Validation Accuracy: 0.757000\n",
      "Epoch 41, CIFAR-10 Batch 3:  Loss:     0.2620 Validation Accuracy: 0.751200\n",
      "Epoch 41, CIFAR-10 Batch 4:  Loss:     0.2756 Validation Accuracy: 0.749400\n",
      "Epoch 41, CIFAR-10 Batch 5:  Loss:     0.2694 Validation Accuracy: 0.750400\n",
      "Epoch 42, CIFAR-10 Batch 1:  Loss:     0.4018 Validation Accuracy: 0.741200\n",
      "Epoch 42, CIFAR-10 Batch 2:  Loss:     0.3559 Validation Accuracy: 0.748600\n",
      "Epoch 42, CIFAR-10 Batch 3:  Loss:     0.2269 Validation Accuracy: 0.754800\n",
      "Epoch 42, CIFAR-10 Batch 4:  Loss:     0.2568 Validation Accuracy: 0.753600\n",
      "Epoch 42, CIFAR-10 Batch 5:  Loss:     0.2640 Validation Accuracy: 0.748400\n",
      "Epoch 43, CIFAR-10 Batch 1:  Loss:     0.2824 Validation Accuracy: 0.758800\n",
      "Epoch 43, CIFAR-10 Batch 2:  Loss:     0.3254 Validation Accuracy: 0.753000\n",
      "Epoch 43, CIFAR-10 Batch 3:  Loss:     0.2411 Validation Accuracy: 0.749800\n",
      "Epoch 43, CIFAR-10 Batch 4:  Loss:     0.2241 Validation Accuracy: 0.763400\n",
      "Epoch 43, CIFAR-10 Batch 5:  Loss:     0.2599 Validation Accuracy: 0.751200\n",
      "Epoch 44, CIFAR-10 Batch 1:  Loss:     0.2598 Validation Accuracy: 0.756200\n",
      "Epoch 44, CIFAR-10 Batch 2:  Loss:     0.3571 Validation Accuracy: 0.740400\n",
      "Epoch 44, CIFAR-10 Batch 3:  Loss:     0.2475 Validation Accuracy: 0.749800\n",
      "Epoch 44, CIFAR-10 Batch 4:  Loss:     0.3110 Validation Accuracy: 0.735400\n",
      "Epoch 44, CIFAR-10 Batch 5:  Loss:     0.2812 Validation Accuracy: 0.745200\n",
      "Epoch 45, CIFAR-10 Batch 1:  Loss:     0.2862 Validation Accuracy: 0.756600\n",
      "Epoch 45, CIFAR-10 Batch 2:  Loss:     0.3012 Validation Accuracy: 0.741600\n",
      "Epoch 45, CIFAR-10 Batch 3:  Loss:     0.1993 Validation Accuracy: 0.768000\n",
      "Epoch 45, CIFAR-10 Batch 4:  Loss:     0.2808 Validation Accuracy: 0.748600\n",
      "Epoch 45, CIFAR-10 Batch 5:  Loss:     0.2279 Validation Accuracy: 0.750600\n",
      "Epoch 46, CIFAR-10 Batch 1:  Loss:     0.2910 Validation Accuracy: 0.748600\n",
      "Epoch 46, CIFAR-10 Batch 2:  Loss:     0.2510 Validation Accuracy: 0.758000\n",
      "Epoch 46, CIFAR-10 Batch 3:  Loss:     0.2035 Validation Accuracy: 0.764000\n",
      "Epoch 46, CIFAR-10 Batch 4:  Loss:     0.2148 Validation Accuracy: 0.761200\n",
      "Epoch 46, CIFAR-10 Batch 5:  Loss:     0.2153 Validation Accuracy: 0.757800\n",
      "Epoch 47, CIFAR-10 Batch 1:  Loss:     0.2442 Validation Accuracy: 0.761400\n",
      "Epoch 47, CIFAR-10 Batch 2:  Loss:     0.2405 Validation Accuracy: 0.757800\n",
      "Epoch 47, CIFAR-10 Batch 3:  Loss:     0.2073 Validation Accuracy: 0.754800\n",
      "Epoch 47, CIFAR-10 Batch 4:  Loss:     0.2839 Validation Accuracy: 0.747800\n",
      "Epoch 47, CIFAR-10 Batch 5:  Loss:     0.2449 Validation Accuracy: 0.747400\n",
      "Epoch 48, CIFAR-10 Batch 1:  Loss:     0.2327 Validation Accuracy: 0.759800\n",
      "Epoch 48, CIFAR-10 Batch 2:  Loss:     0.2713 Validation Accuracy: 0.755800\n",
      "Epoch 48, CIFAR-10 Batch 3:  Loss:     0.1894 Validation Accuracy: 0.762400\n",
      "Epoch 48, CIFAR-10 Batch 4:  Loss:     0.1876 Validation Accuracy: 0.758800\n",
      "Epoch 48, CIFAR-10 Batch 5:  Loss:     0.2421 Validation Accuracy: 0.745200\n",
      "Epoch 49, CIFAR-10 Batch 1:  Loss:     0.2730 Validation Accuracy: 0.749400\n",
      "Epoch 49, CIFAR-10 Batch 2:  Loss:     0.2863 Validation Accuracy: 0.751800\n",
      "Epoch 49, CIFAR-10 Batch 3:  Loss:     0.1735 Validation Accuracy: 0.760400\n",
      "Epoch 49, CIFAR-10 Batch 4:  Loss:     0.1875 Validation Accuracy: 0.762400\n",
      "Epoch 49, CIFAR-10 Batch 5:  Loss:     0.2070 Validation Accuracy: 0.754000\n",
      "Epoch 50, CIFAR-10 Batch 1:  Loss:     0.2514 Validation Accuracy: 0.754000\n",
      "Epoch 50, CIFAR-10 Batch 2:  Loss:     0.3242 Validation Accuracy: 0.739800\n",
      "Epoch 50, CIFAR-10 Batch 3:  Loss:     0.2060 Validation Accuracy: 0.752800\n",
      "Epoch 50, CIFAR-10 Batch 4:  Loss:     0.1856 Validation Accuracy: 0.759400\n",
      "Epoch 50, CIFAR-10 Batch 5:  Loss:     0.2160 Validation Accuracy: 0.745000\n"
     ]
    }
   ],
   "source": [
    "\"\"\"\n",
    "DON'T MODIFY ANYTHING IN THIS CELL\n",
    "\"\"\"\n",
    "save_model_path = './image_classification'\n",
    "\n",
    "print('Training...')\n",
    "with tf.Session() as sess:\n",
    "    # Initializing the variables\n",
    "    sess.run(tf.global_variables_initializer())\n",
    "    \n",
    "    # Training cycle\n",
    "    for epoch in range(epochs):\n",
    "        # Loop over all batches\n",
    "        n_batches = 5\n",
    "        for batch_i in range(1, n_batches + 1):\n",
    "            for batch_features, batch_labels in helper.load_preprocess_training_batch(batch_i, batch_size):\n",
    "                train_neural_network(sess, optimizer, keep_probability, batch_features, batch_labels)\n",
    "            print('Epoch {:>2}, CIFAR-10 Batch {}:  '.format(epoch + 1, batch_i), end='')\n",
    "            print_stats(sess, batch_features, batch_labels, cost, accuracy)\n",
    "            \n",
    "    # Save Model\n",
    "    saver = tf.train.Saver()\n",
    "    save_path = saver.save(sess, save_model_path)"
   ]
  },
  {
   "cell_type": "markdown",
   "metadata": {
    "deletable": true,
    "editable": true
   },
   "source": [
    "# Checkpoint\n",
    "The model has been saved to disk.\n",
    "## Test Model\n",
    "Test your model against the test dataset.  This will be your final accuracy. You should have an accuracy greater than 50%. If you don't, keep tweaking the model architecture and parameters."
   ]
  },
  {
   "cell_type": "code",
   "execution_count": 19,
   "metadata": {
    "collapsed": false,
    "deletable": true,
    "editable": true
   },
   "outputs": [
    {
     "name": "stdout",
     "output_type": "stream",
     "text": [
      "INFO:tensorflow:Restoring parameters from ./image_classification\n",
      "Testing Accuracy: 0.7369887441396713\n",
      "\n"
     ]
    },
    {
     "data": {
      "image/png": "[encoded data removed]",
      "text/plain": [
       "<matplotlib.figure.Figure at 0x7fe9702aee80>"
      ]
     },
     "metadata": {
      "image/png": {
       "height": 319.0,
       "width": 355.0
      }
     },
     "output_type": "display_data"
    }
   ],
   "source": [
    "\"\"\"\n",
    "DON'T MODIFY ANYTHING IN THIS CELL\n",
    "\"\"\"\n",
    "%matplotlib inline\n",
    "%config InlineBackend.figure_format = 'retina'\n",
    "\n",
    "import tensorflow as tf\n",
    "import pickle\n",
    "import helper\n",
    "import random\n",
    "\n",
    "# Set batch size if not already set\n",
    "try:\n",
    "    if batch_size:\n",
    "        pass\n",
    "except NameError:\n",
    "    batch_size = 64\n",
    "\n",
    "save_model_path = './image_classification'\n",
    "n_samples = 4\n",
    "top_n_predictions = 3\n",
    "\n",
    "def test_model():\n",
    "    \"\"\"\n",
    "    Test the saved model against the test dataset\n",
    "    \"\"\"\n",
    "\n",
    "    test_features, test_labels = pickle.load(open('preprocess_test.p', mode='rb'))\n",
    "    loaded_graph = tf.Graph()\n",
    "\n",
    "    with tf.Session(graph=loaded_graph) as sess:\n",
    "        # Load model\n",
    "        loader = tf.train.import_meta_graph(save_model_path + '.meta')\n",
    "        loader.restore(sess, save_model_path)\n",
    "\n",
    "        # Get Tensors from loaded model\n",
    "        loaded_x = loaded_graph.get_tensor_by_name('x:0')\n",
    "        loaded_y = loaded_graph.get_tensor_by_name('y:0')\n",
    "        loaded_keep_prob = loaded_graph.get_tensor_by_name('keep_prob:0')\n",
    "        loaded_logits = loaded_graph.get_tensor_by_name('logits:0')\n",
    "        loaded_acc = loaded_graph.get_tensor_by_name('accuracy:0')\n",
    "        \n",
    "        # Get accuracy in batches for memory limitations\n",
    "        test_batch_acc_total = 0\n",
    "        test_batch_count = 0\n",
    "        \n",
    "        for test_feature_batch, test_label_batch in helper.batch_features_labels(test_features, test_labels, batch_size):\n",
    "            test_batch_acc_total += sess.run(\n",
    "                loaded_acc,\n",
    "                feed_dict={loaded_x: test_feature_batch, loaded_y: test_label_batch, loaded_keep_prob: 1.0})\n",
    "            test_batch_count += 1\n",
    "\n",
    "        print('Testing Accuracy: {}\\n'.format(test_batch_acc_total/test_batch_count))\n",
    "\n",
    "        # Print Random Samples\n",
    "        random_test_features, random_test_labels = tuple(zip(*random.sample(list(zip(test_features, test_labels)), n_samples)))\n",
    "        random_test_predictions = sess.run(\n",
    "            tf.nn.top_k(tf.nn.softmax(loaded_logits), top_n_predictions),\n",
    "            feed_dict={loaded_x: random_test_features, loaded_y: random_test_labels, loaded_keep_prob: 1.0})\n",
    "        helper.display_image_predictions(random_test_features, random_test_labels, random_test_predictions)\n",
    "\n",
    "\n",
    "test_model()"
   ]
  },
  {
   "cell_type": "markdown",
   "metadata": {
    "deletable": true,
    "editable": true
   },
   "source": [
    "## Why 50-80% Accuracy?\n",
    "You might be wondering why you can't get an accuracy any higher. First things first, 50% isn't bad for a simple CNN.  Pure guessing would get you 10% accuracy. However, you might notice people are getting scores [well above 80%](http://rodrigob.github.io/are_we_there_yet/build/classification_datasets_results.html#43494641522d3130).  That's because we haven't taught you all there is to know about neural networks. We still need to cover a few more techniques.\n",
    "## Submitting This Project\n",
    "When submitting this project, make sure to run all the cells before saving the notebook.  Save the notebook file as \"dlnd_image_classification.ipynb\" and save it as a HTML file under \"File\" -> \"Download as\".  Include the \"helper.py\" and \"problem_unittests.py\" files in your submission."
   ]
  }
 ],
 "metadata": {
  "kernelspec": {
   "display_name": "Python 3",
   "language": "python",
   "name": "python3"
  },
  "language_info": {
   "codemirror_mode": {
    "name": "ipython",
    "version": 3
   },
   "file_extension": ".py",
   "mimetype": "text/x-python",
   "name": "python",
   "nbconvert_exporter": "python",
   "pygments_lexer": "ipython3",
   "version": "3.6.0"
  }
 },
 "nbformat": 4,
 "nbformat_minor": 1
}
